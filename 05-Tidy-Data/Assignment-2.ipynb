{
  "nbformat": 4,
  "nbformat_minor": 2,
  "metadata": {
    "kernelspec": {
      "name": "python3",
      "display_name": "Python 3.8.8 64-bit ('base': conda)"
    },
    "language_info": {
      "codemirror_mode": {
        "name": "ipython",
        "version": 3
      },
      "file_extension": ".py",
      "mimetype": "text/x-python",
      "name": "python",
      "nbconvert_exporter": "python",
      "pygments_lexer": "ipython3",
      "version": "3.8.8"
    },
    "colab": {
      "name": "Assignment-2.ipynb",
      "provenance": []
    },
    "interpreter": {
      "hash": "49164b14498620bfe09eb99eb014390453188796a157617b1fa1d0f8ed422666"
    }
  },
  "cells": [
    {
      "cell_type": "markdown",
      "source": [
        "# Assignment 2"
      ],
      "metadata": {
        "id": "4JMxiOEU-UOf"
      }
    },
    {
      "cell_type": "markdown",
      "source": [
        "## Data\n",
        "\n",
        "This is a historical dataset on the modern Olympic Games, including all the Games from Athens 1896 to Rio 2016. The data was taken from Kaggle. The `athlete_events` Dataset contains $271,116$ rows and $15$ columns.\n",
        "\n",
        "**Source:**\n",
        "\n",
        "Griffin, R, H (2018) 120 years of Olympic history: athletes and results, athlete_events, Found at: https://www.kaggle.com/heesoo37/120-years-of-olympic-history-athletes-and-results#athlete_events.csv\n",
        "\n",
        "**ATTRIBUTES:**\n",
        "\n",
        "**athlete_events.csv**\n",
        "\n",
        "| Column Name | Data Type | Description/Notes |\n",
        "|:----:|:----:|:----|\n",
        "| ID |  integer | Unique number for each athlete |\n",
        "| Name | string | Athlete’s name |\n",
        "| Sex | string | M or F |\n",
        "| Age | integer |  |\n",
        "| Height | integer | In centimeters |\n",
        "| Weight | integer | In kilograms |\n",
        "| Team | string | Team name |\n",
        "| NOC | string | National Olympic Committee, 3 letter code (Matches with `NOC` from noc_regions.csv) |\n",
        "| Games | string | Year and season |\n",
        "| Year | integer |  |\n",
        "| Season | string | Summer or Winter |\n",
        "| City | string | Host city |\n",
        "| Sport | string |  |\n",
        "| Event | string |  |\n",
        "| Medal | string | Gold, Silver, Bronze, or NA |"
      ],
      "metadata": {
        "id": "whFet5J4-UOj"
      }
    },
    {
      "cell_type": "markdown",
      "source": [
        "Download athlete_events.csv from the link above and load it into a DataFrame called `athlete_events` (also can be found in the [course repo](https://github.com/soltaniehha/Intro-to-Data-Analytics/tree/main/data)):"
      ],
      "metadata": {
        "id": "j32Fz0Oe-UOj"
      }
    },
    {
      "cell_type": "code",
      "execution_count": 83,
      "source": [
        "import pandas as pd\n",
        "import numpy as np\n",
        "athlete_events = pd.read_csv('/Users/aleksanderlazowski/Documents/GitHub/Intro-to-Data-Analytics/data/athlete_events.csv')"
      ],
      "outputs": [],
      "metadata": {
        "id": "oKOMTxr1-UOk"
      }
    },
    {
      "cell_type": "markdown",
      "source": [
        "Use `info()` method on this DataFrame to get a sense of the data:"
      ],
      "metadata": {
        "id": "QFiui54X-UOo"
      }
    },
    {
      "cell_type": "code",
      "execution_count": 20,
      "source": [
        "athlete_events.info()"
      ],
      "outputs": [
        {
          "output_type": "stream",
          "name": "stdout",
          "text": [
            "<class 'pandas.core.frame.DataFrame'>\n",
            "RangeIndex: 271116 entries, 0 to 271115\n",
            "Data columns (total 15 columns):\n",
            " #   Column  Non-Null Count   Dtype  \n",
            "---  ------  --------------   -----  \n",
            " 0   ID      271116 non-null  int64  \n",
            " 1   Name    271116 non-null  object \n",
            " 2   Sex     271116 non-null  object \n",
            " 3   Age     261642 non-null  float64\n",
            " 4   Height  210945 non-null  float64\n",
            " 5   Weight  208241 non-null  float64\n",
            " 6   Team    271116 non-null  object \n",
            " 7   NOC     271116 non-null  object \n",
            " 8   Games   271116 non-null  object \n",
            " 9   Year    271116 non-null  int64  \n",
            " 10  Season  271116 non-null  object \n",
            " 11  City    271116 non-null  object \n",
            " 12  Sport   271116 non-null  object \n",
            " 13  Event   271116 non-null  object \n",
            " 14  Medal   39783 non-null   object \n",
            "dtypes: float64(3), int64(2), object(10)\n",
            "memory usage: 31.0+ MB\n"
          ]
        }
      ],
      "metadata": {
        "id": "1xkOJZRP-UOo"
      }
    },
    {
      "cell_type": "markdown",
      "source": [
        "## Question 1\n",
        "Clearly not every athlete receives a medal in the olympics. How many records have a non-null value for `Medal` field? In other words, how many medals were given according to this dataset?"
      ],
      "metadata": {
        "id": "yNxUbJs2-UOs"
      }
    },
    {
      "cell_type": "code",
      "execution_count": 17,
      "source": [
        "# Your answer goes here\n",
        "athlete_events['Medal'].notnull().sum()"
      ],
      "outputs": [
        {
          "output_type": "execute_result",
          "data": {
            "text/plain": [
              "39783"
            ]
          },
          "metadata": {},
          "execution_count": 17
        }
      ],
      "metadata": {
        "id": "U-JNH0Gg-UOt"
      }
    },
    {
      "cell_type": "markdown",
      "source": [
        "Use the `head()` method to inspect the first few rows of the data:"
      ],
      "metadata": {
        "id": "_5BCr0gY-UOv"
      }
    },
    {
      "cell_type": "code",
      "execution_count": 13,
      "source": [
        "athlete_events.head()"
      ],
      "outputs": [
        {
          "output_type": "execute_result",
          "data": {
            "text/plain": [
              "   ID                      Name Sex   Age  Height  Weight            Team  \\\n",
              "0   1                 A Dijiang   M  24.0   180.0    80.0           China   \n",
              "1   2                  A Lamusi   M  23.0   170.0    60.0           China   \n",
              "2   3       Gunnar Nielsen Aaby   M  24.0     NaN     NaN         Denmark   \n",
              "3   4      Edgar Lindenau Aabye   M  34.0     NaN     NaN  Denmark/Sweden   \n",
              "4   5  Christine Jacoba Aaftink   F  21.0   185.0    82.0     Netherlands   \n",
              "\n",
              "   NOC        Games  Year  Season       City          Sport  \\\n",
              "0  CHN  1992 Summer  1992  Summer  Barcelona     Basketball   \n",
              "1  CHN  2012 Summer  2012  Summer     London           Judo   \n",
              "2  DEN  1920 Summer  1920  Summer  Antwerpen       Football   \n",
              "3  DEN  1900 Summer  1900  Summer      Paris     Tug-Of-War   \n",
              "4  NED  1988 Winter  1988  Winter    Calgary  Speed Skating   \n",
              "\n",
              "                              Event Medal  \n",
              "0       Basketball Men's Basketball   NaN  \n",
              "1      Judo Men's Extra-Lightweight   NaN  \n",
              "2           Football Men's Football   NaN  \n",
              "3       Tug-Of-War Men's Tug-Of-War  Gold  \n",
              "4  Speed Skating Women's 500 metres   NaN  "
            ],
            "text/html": [
              "<div>\n",
              "<style scoped>\n",
              "    .dataframe tbody tr th:only-of-type {\n",
              "        vertical-align: middle;\n",
              "    }\n",
              "\n",
              "    .dataframe tbody tr th {\n",
              "        vertical-align: top;\n",
              "    }\n",
              "\n",
              "    .dataframe thead th {\n",
              "        text-align: right;\n",
              "    }\n",
              "</style>\n",
              "<table border=\"1\" class=\"dataframe\">\n",
              "  <thead>\n",
              "    <tr style=\"text-align: right;\">\n",
              "      <th></th>\n",
              "      <th>ID</th>\n",
              "      <th>Name</th>\n",
              "      <th>Sex</th>\n",
              "      <th>Age</th>\n",
              "      <th>Height</th>\n",
              "      <th>Weight</th>\n",
              "      <th>Team</th>\n",
              "      <th>NOC</th>\n",
              "      <th>Games</th>\n",
              "      <th>Year</th>\n",
              "      <th>Season</th>\n",
              "      <th>City</th>\n",
              "      <th>Sport</th>\n",
              "      <th>Event</th>\n",
              "      <th>Medal</th>\n",
              "    </tr>\n",
              "  </thead>\n",
              "  <tbody>\n",
              "    <tr>\n",
              "      <th>0</th>\n",
              "      <td>1</td>\n",
              "      <td>A Dijiang</td>\n",
              "      <td>M</td>\n",
              "      <td>24.0</td>\n",
              "      <td>180.0</td>\n",
              "      <td>80.0</td>\n",
              "      <td>China</td>\n",
              "      <td>CHN</td>\n",
              "      <td>1992 Summer</td>\n",
              "      <td>1992</td>\n",
              "      <td>Summer</td>\n",
              "      <td>Barcelona</td>\n",
              "      <td>Basketball</td>\n",
              "      <td>Basketball Men's Basketball</td>\n",
              "      <td>NaN</td>\n",
              "    </tr>\n",
              "    <tr>\n",
              "      <th>1</th>\n",
              "      <td>2</td>\n",
              "      <td>A Lamusi</td>\n",
              "      <td>M</td>\n",
              "      <td>23.0</td>\n",
              "      <td>170.0</td>\n",
              "      <td>60.0</td>\n",
              "      <td>China</td>\n",
              "      <td>CHN</td>\n",
              "      <td>2012 Summer</td>\n",
              "      <td>2012</td>\n",
              "      <td>Summer</td>\n",
              "      <td>London</td>\n",
              "      <td>Judo</td>\n",
              "      <td>Judo Men's Extra-Lightweight</td>\n",
              "      <td>NaN</td>\n",
              "    </tr>\n",
              "    <tr>\n",
              "      <th>2</th>\n",
              "      <td>3</td>\n",
              "      <td>Gunnar Nielsen Aaby</td>\n",
              "      <td>M</td>\n",
              "      <td>24.0</td>\n",
              "      <td>NaN</td>\n",
              "      <td>NaN</td>\n",
              "      <td>Denmark</td>\n",
              "      <td>DEN</td>\n",
              "      <td>1920 Summer</td>\n",
              "      <td>1920</td>\n",
              "      <td>Summer</td>\n",
              "      <td>Antwerpen</td>\n",
              "      <td>Football</td>\n",
              "      <td>Football Men's Football</td>\n",
              "      <td>NaN</td>\n",
              "    </tr>\n",
              "    <tr>\n",
              "      <th>3</th>\n",
              "      <td>4</td>\n",
              "      <td>Edgar Lindenau Aabye</td>\n",
              "      <td>M</td>\n",
              "      <td>34.0</td>\n",
              "      <td>NaN</td>\n",
              "      <td>NaN</td>\n",
              "      <td>Denmark/Sweden</td>\n",
              "      <td>DEN</td>\n",
              "      <td>1900 Summer</td>\n",
              "      <td>1900</td>\n",
              "      <td>Summer</td>\n",
              "      <td>Paris</td>\n",
              "      <td>Tug-Of-War</td>\n",
              "      <td>Tug-Of-War Men's Tug-Of-War</td>\n",
              "      <td>Gold</td>\n",
              "    </tr>\n",
              "    <tr>\n",
              "      <th>4</th>\n",
              "      <td>5</td>\n",
              "      <td>Christine Jacoba Aaftink</td>\n",
              "      <td>F</td>\n",
              "      <td>21.0</td>\n",
              "      <td>185.0</td>\n",
              "      <td>82.0</td>\n",
              "      <td>Netherlands</td>\n",
              "      <td>NED</td>\n",
              "      <td>1988 Winter</td>\n",
              "      <td>1988</td>\n",
              "      <td>Winter</td>\n",
              "      <td>Calgary</td>\n",
              "      <td>Speed Skating</td>\n",
              "      <td>Speed Skating Women's 500 metres</td>\n",
              "      <td>NaN</td>\n",
              "    </tr>\n",
              "  </tbody>\n",
              "</table>\n",
              "</div>"
            ]
          },
          "metadata": {},
          "execution_count": 13
        }
      ],
      "metadata": {
        "id": "hSZcsLEm-UOv"
      }
    },
    {
      "cell_type": "markdown",
      "source": [
        "## Question 2\n",
        "\n",
        "What is the minimum and maximum `Year`?"
      ],
      "metadata": {
        "id": "vrIIqq6D-UOx"
      }
    },
    {
      "cell_type": "code",
      "execution_count": 44,
      "source": [
        "athlete_events['Year'].min()"
      ],
      "outputs": [
        {
          "output_type": "execute_result",
          "data": {
            "text/plain": [
              "1896"
            ]
          },
          "metadata": {},
          "execution_count": 44
        }
      ],
      "metadata": {
        "id": "voZqV5Zh-UOy"
      }
    },
    {
      "cell_type": "code",
      "execution_count": 45,
      "source": [
        "athlete_events['Year'].max()"
      ],
      "outputs": [
        {
          "output_type": "execute_result",
          "data": {
            "text/plain": [
              "2016"
            ]
          },
          "metadata": {},
          "execution_count": 45
        }
      ],
      "metadata": {
        "id": "h4aL8Se9-UO0"
      }
    },
    {
      "cell_type": "markdown",
      "source": [
        "## Question 3\n",
        "\n",
        "Is the following statement True or False?\n",
        "\n",
        "> Average age of female athletes who attended the olympic games after 1990 has raised when compared to the era before then."
      ],
      "metadata": {
        "id": "isC4hLaJ-UO3"
      }
    },
    {
      "cell_type": "code",
      "execution_count": 94,
      "source": [
        "avg_age = athlete_events[(athlete_events[\"Year\"] > 1990) & (athlete_events['Sex'] == 'F') & (athlete_events['Age'])].mean()\n",
        "avg_age2 = athlete_events[(athlete_events[\"Year\"] < 1990) & (athlete_events['Sex'] == 'F') & (athlete_events['Age'])].mean()\n",
        "answr1 = avg_age['Age']\n",
        "answr2 = avg_age2['Age']\n",
        "print('The statement is False, avergae age of females before 1990 was {} and avergae age after 1990 was {}'.format(answr1.round(), answr2.round()))"
      ],
      "outputs": [
        {
          "output_type": "stream",
          "name": "stdout",
          "text": [
            "The statement is False, avergae age of females before 1990 was 25.0 and avergae age after 1990 was 22.0\n"
          ]
        }
      ],
      "metadata": {
        "id": "KIM8qUdP-UO4"
      }
    },
    {
      "cell_type": "markdown",
      "source": [
        "## Question 4\n",
        "\n",
        "How many Gold medals were given to men from 1970 to 2000 (including both years)?"
      ],
      "metadata": {
        "id": "6MFpzA3--UO7"
      }
    },
    {
      "cell_type": "code",
      "execution_count": 71,
      "source": [
        "Year_val = athlete_events[(athlete_events[\"Year\"] >= 1970) & (athlete_events[\"Year\"] <= 2000) & (athlete_events['Medal'] == 'Gold') & (athlete_events['Sex'] == 'M')]\n",
        "Year_val['Medal'].count()"
      ],
      "outputs": [
        {
          "output_type": "execute_result",
          "data": {
            "text/plain": [
              "3207"
            ]
          },
          "metadata": {},
          "execution_count": 71
        }
      ],
      "metadata": {
        "id": "LNEsH9YH-UO8"
      }
    },
    {
      "cell_type": "markdown",
      "source": [
        "## Question 5\n",
        "\n",
        "How many athletes attended the olympic games in 1968?\n",
        "\n",
        "Hint: You can use the method `.unique()` on any pandas Series to get the unique values. Any column subset of a DataFrame returns a Series object."
      ],
      "metadata": {
        "id": "WrqL6DQM-UO-"
      }
    },
    {
      "cell_type": "code",
      "execution_count": 101,
      "source": [
        "attendance = athlete_events[(athlete_events['Year'] == 1968) & (athlete_events['Name'])]\n",
        "names = attendance['Name'].drop_duplicates()\n",
        "names.count()"
      ],
      "outputs": [
        {
          "output_type": "execute_result",
          "data": {
            "text/plain": [
              "6711"
            ]
          },
          "metadata": {},
          "execution_count": 101
        }
      ],
      "metadata": {
        "id": "MwsLBcwo-UO-"
      }
    },
    {
      "cell_type": "markdown",
      "source": [
        "## Question 6\n",
        "\n",
        "Who won the event \"Swimming Men's 100 metres Breaststroke\" in 2004? Please note that there is a typo in the Event description!"
      ],
      "metadata": {
        "id": "ths12eTm-UPB"
      }
    },
    {
      "cell_type": "code",
      "execution_count": 113,
      "source": [
        "Winner = athlete_events[(athlete_events['Year'] == 2004) & (athlete_events['Name']) & (athlete_events['Medal'] == 'Gold') & (athlete_events['Event'] == \"Swimming Men's 100 metres Breaststroke\")]\n",
        "Winner[\"Name\"]"
      ],
      "outputs": [
        {
          "output_type": "execute_result",
          "data": {
            "text/plain": [
              "120309    Kosuke Kitajima\n",
              "Name: Name, dtype: object"
            ]
          },
          "metadata": {},
          "execution_count": 113
        }
      ],
      "metadata": {
        "id": "UhM9yVf5-UPC"
      }
    },
    {
      "cell_type": "markdown",
      "source": [
        "## Question 7\n",
        "\n",
        "Using the `athlete_events` dataframe and **seaborn** and/or **Matplotlib** library, create a plot to describe a portion of the dataset. This question is left open intentionally. To get the full points, make sure to customize your plot and produce a meaningful graph that follows best practices. For instance, it should have a title, and axes labels; it should be readable and insightful for an audience that is not familiar with the dataset."
      ],
      "metadata": {
        "id": "7c-RA1Ii_VXI"
      }
    },
    {
      "cell_type": "code",
      "execution_count": null,
      "source": [
        "g = sns.catplot(x=\"index\", y=\"Medal\", data=Top,\n",
        "                height=6, kind=\"bar\", palette=\"muted\")\n",
        "g.despine(left=True)\n",
        "g.set_xlabels(\"Top 5 countries\")\n",
        "g.set_ylabels(\"Number of Medals\")\n",
        "plt.title('Medals per Country')\n"
      ],
      "outputs": [],
      "metadata": {}
    },
    {
      "cell_type": "code",
      "execution_count": 185,
      "source": [
        "import seaborn as sns\n",
        "import matplotlib.pyplot as plt\n",
        "\n",
        "GoldMedals = athlete_events[athlete_events['Medal'] == 'Gold'].value_counts()\n",
        "\n"
      ],
      "outputs": [
        {
          "output_type": "execute_result",
          "data": {
            "text/plain": [
              "10167"
            ]
          },
          "metadata": {},
          "execution_count": 185
        }
      ],
      "metadata": {
        "id": "ijRWJl85ALFn"
      }
    },
    {
      "cell_type": "code",
      "execution_count": 199,
      "source": [
        "\n",
        "GoldMedals = athlete_events[(athlete_events['Medal'] == 'Silver') & (athlete_events[\"Age\"] > 40)]\n",
        "\n",
        "\n",
        "plt.figure(figsize=(20, 10))\n",
        "plt.tight_layout()\n",
        "sns.countplot(GoldMedals['Age'])\n",
        "plt.title('Distribution of silver Medals')"
      ],
      "outputs": [
        {
          "output_type": "stream",
          "name": "stderr",
          "text": [
            "/Users/aleksanderlazowski/opt/anaconda3/lib/python3.8/site-packages/seaborn/_decorators.py:36: FutureWarning: Pass the following variable as a keyword arg: x. From version 0.12, the only valid positional argument will be `data`, and passing other arguments without an explicit keyword will result in an error or misinterpretation.\n",
            "  warnings.warn(\n"
          ]
        },
        {
          "output_type": "execute_result",
          "data": {
            "text/plain": [
              "Text(0.5, 1.0, 'Distribution of silver Medals')"
            ]
          },
          "metadata": {},
          "execution_count": 199
        },
        {
          "output_type": "display_data",
          "data": {
            "text/plain": [
              "<Figure size 1440x720 with 1 Axes>"
            ],
            "image/png": "[encoded data removed]"
          },
          "metadata": {
            "needs_background": "light"
          }
        }
      ],
      "metadata": {}
    }
  ]
}